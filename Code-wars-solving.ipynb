{
 "cells": [
  {
   "cell_type": "markdown",
   "metadata": {},
   "source": []
  },
  {
   "cell_type": "markdown",
   "metadata": {},
   "source": [
    "## Equal Sides Of An Array\n",
    "You are going to be given an array of integers. Your job is to take that array and find an index N where the sum of the integers to the left of N is equal to the sum of the integers to the right of N. If there is no index that would make this happen, return -1."
   ]
  },
  {
   "cell_type": "code",
   "execution_count": null,
   "metadata": {},
   "outputs": [],
   "source": [
    "def find_even_index(arr):\n",
    "    for i in range(len(arr)):\n",
    "        if sum(arr[:i]) == sum(arr[i+1:]):\n",
    "            return i\n",
    "    return -1\n",
    "    \n",
    "\n",
    "find_even_index([1,2,3,4,3,2,1])"
   ]
  },
  {
   "cell_type": "markdown",
   "metadata": {},
   "source": [
    "## Find the missing letter\n",
    "Write a method that takes an array of consecutive (increasing) letters as input and that returns the missing letter in the array.\n",
    "\n",
    "You will always get an valid array. And it will be always exactly one letter be missing. The length of the array will always be at least 2.\n",
    "The array will always contain letters in only one case.\n",
    "\n",
    "Example:\n",
    "\n",
    "['a','b','c','d','f'] -> 'e' ['O','Q','R','S'] -> 'P'\n"
   ]
  },
  {
   "cell_type": "code",
   "execution_count": null,
   "metadata": {},
   "outputs": [],
   "source": [
    "def find_missing_letter(chars):\n",
    "    import string\n",
    "    alphabet = [i for i in string.ascii_letters]\n",
    "    \n",
    "    for i in range(len(chars)):\n",
    "        if chars[i+1] != alphabet[alphabet.index(chars[i])+1]:\n",
    "            return alphabet[alphabet.index(chars[i])+1]\n",
    "\n",
    "\n",
    "    return -1\n",
    "\n",
    "find_missing_letter(['a','b','c','d','f'])"
   ]
  },
  {
   "cell_type": "markdown",
   "metadata": {},
   "source": [
    "## Bit Counting\n",
    "Write a function that takes an integer as input, and returns the number of bits that are equal to one in the binary representation of that number. You can guarantee that input is non-negative.\n",
    "\n",
    "Example: The binary representation of 1234 is 10011010010, so the function should return 5 in this case\n"
   ]
  },
  {
   "cell_type": "code",
   "execution_count": null,
   "metadata": {},
   "outputs": [],
   "source": [
    "def count_bits(n):\n",
    "    return [i for i in str(bin(n))].count('1')\n",
    "    \n",
    "count_bits(4)"
   ]
  },
  {
   "cell_type": "markdown",
   "metadata": {},
   "source": [
    "## Two Sum\n",
    "Write a function that takes an array of numbers (integers for the tests) and a target number. It should find two different items in the array that, when added together, give the target value. The indices of these items should then be returned in a tuple / list (depending on your language) like so: (index1, index2).\n",
    "\n",
    "For the purposes of this kata, some tests may have multiple answers; any valid solutions will be accepted.\n",
    "\n",
    "The input will always be valid (numbers will be an array of length 2 or greater, and all of the items will be numbers; target will always be the sum of two different items from that array)."
   ]
  },
  {
   "cell_type": "code",
   "execution_count": 16,
   "metadata": {},
   "outputs": [
    {
     "data": {
      "text/plain": [
       "(1, 2)"
      ]
     },
     "execution_count": 16,
     "metadata": {},
     "output_type": "execute_result"
    }
   ],
   "source": [
    "def two_sum(numbers, target):\n",
    "\t\n",
    "\tfor i in range(len(numbers)-1):\n",
    "\t\tfor k in range(i+1, len(numbers)):\n",
    "\t\t\tif numbers[i] + numbers[k] == target:\n",
    "\t\t\t\treturn (i, k)\n",
    "\treturn -1\n",
    "\n",
    "\n",
    "two_sum([1234,5678,9012], 14690)"
   ]
  },
  {
   "cell_type": "markdown",
   "metadata": {},
   "source": [
    "Implement a pseudo-encryption algorithm which given a string S and an integer N concatenates all the odd-indexed characters of S with all the even-indexed characters of S, this process should be repeated N times.\n",
    "\n",
    "Examples:\n",
    "\n",
    "encrypt(\"012345\", 1)  =>  \"135024\"\n",
    "encrypt(\"012345\", 2)  =>  \"135024\"  ->  \"304152\"\n",
    "encrypt(\"012345\", 3)  =>  \"135024\"  ->  \"304152\"  ->  \"012345\"\n",
    "\n",
    "encrypt(\"01234\", 1)  =>  \"13024\"\n",
    "encrypt(\"01234\", 2)  =>  \"13024\"  ->  \"32104\"\n",
    "encrypt(\"01234\", 3)  =>  \"13024\"  ->  \"32104\"  ->  \"20314\"\n",
    "Together with the encryption function, you should also implement a decryption function which reverses the process.\n",
    "\n",
    "If the string S is an empty value or the integer N is not positive, return the first argument without changes."
   ]
  },
  {
   "cell_type": "code",
   "execution_count": 109,
   "metadata": {},
   "outputs": [
    {
     "name": "stdout",
     "output_type": "stream",
     "text": [
      "hsi  etTi sats!\n",
      "This is a test!\n",
      "This is a test!\n"
     ]
    },
    {
     "data": {
      "text/plain": [
       "'This kata is very interesting!'"
      ]
     },
     "execution_count": 109,
     "metadata": {},
     "output_type": "execute_result"
    }
   ],
   "source": [
    "def decrypt(encrypted_text, n):\n",
    "    half = len(encrypted_text) // 2\n",
    "    arr = list(encrypted_text)\n",
    "\n",
    "    for i in range(n):\n",
    "        arr[1::2], arr[::2] = arr[:half], arr[half:]\n",
    "\n",
    "    return ''.join(arr)\n",
    "\n",
    "def encrypt(text, n):\n",
    "\n",
    "    for i in range(n):\n",
    "        text = text[1::2] + text[::2]\n",
    "\n",
    "    return text\n",
    "        \n",
    "\n",
    "print(encrypt(\"This is a test!\", 1))\n",
    "print(decrypt(\"hsi  etTi sats!\", 1))\n",
    "print(decrypt(\"s eT ashi tist!\", 2))\n",
    "decrypt(\"hskt svr neetn!Ti aai eyitrsig\", 1)"
   ]
  },
  {
   "cell_type": "markdown",
   "metadata": {},
   "source": [
    "Your goal in this kata is to implement a difference function, which subtracts one list from another and returns the result.\n",
    "\n",
    "It should remove all values from list a, which are present in list b keeping their order.\n",
    "\n",
    "array_diff([1,2],[1]) == [2]\n",
    "If a value is present in b, all of its occurrences must be removed from the other:\n",
    "\n",
    "array_diff([1,2,2,2,3],[2]) == [1,3]\n"
   ]
  },
  {
   "cell_type": "code",
   "execution_count": 114,
   "metadata": {},
   "outputs": [
    {
     "data": {
      "text/plain": [
       "[3]"
      ]
     },
     "execution_count": 114,
     "metadata": {},
     "output_type": "execute_result"
    }
   ],
   "source": [
    "def array_diff(a, b):\n",
    "    for i in b:\n",
    "        while True:\n",
    "            try:\n",
    "                a.remove(i)\n",
    "            except:\n",
    "                break\n",
    "    return a\n",
    "\n",
    "array_diff([1,2,3], [1, 2])"
   ]
  },
  {
   "cell_type": "code",
   "execution_count": 113,
   "metadata": {},
   "outputs": [
    {
     "ename": "ValueError",
     "evalue": "list.remove(x): x not in list",
     "output_type": "error",
     "traceback": [
      "\u001b[0;31m---------------------------------------------------------------------------\u001b[0m",
      "\u001b[0;31mValueError\u001b[0m                                Traceback (most recent call last)",
      "Input \u001b[0;32mIn [113]\u001b[0m, in \u001b[0;36m<cell line: 3>\u001b[0;34m()\u001b[0m\n\u001b[1;32m      1\u001b[0m a \u001b[39m=\u001b[39m [\u001b[39m1\u001b[39m,\u001b[39m2\u001b[39m]\n\u001b[1;32m      2\u001b[0m a\u001b[39m.\u001b[39mremove(\u001b[39m2\u001b[39m)\n\u001b[0;32m----> 3\u001b[0m a\u001b[39m.\u001b[39;49mremove(\u001b[39m2\u001b[39;49m)\n",
      "\u001b[0;31mValueError\u001b[0m: list.remove(x): x not in list"
     ]
    }
   ],
   "source": [
    "a = [1,2]\n",
    "a.remove(2)\n",
    "a.remove(2)"
   ]
  },
  {
   "cell_type": "code",
   "execution_count": null,
   "metadata": {},
   "outputs": [],
   "source": []
  }
 ],
 "metadata": {
  "interpreter": {
   "hash": "83a7f1a88ff7dac5d10ebf2d46996fbe33a2ecb6ed1ee7edc5d705364c226b61"
  },
  "kernelspec": {
   "display_name": "Python 3.9.11 ('base')",
   "language": "python",
   "name": "python3"
  },
  "language_info": {
   "codemirror_mode": {
    "name": "ipython",
    "version": 3
   },
   "file_extension": ".py",
   "mimetype": "text/x-python",
   "name": "python",
   "nbconvert_exporter": "python",
   "pygments_lexer": "ipython3",
   "version": "3.9.12"
  },
  "orig_nbformat": 4
 },
 "nbformat": 4,
 "nbformat_minor": 2
}
